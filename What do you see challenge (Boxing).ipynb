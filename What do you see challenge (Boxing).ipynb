{
 "cells": [
  {
   "cell_type": "markdown",
   "metadata": {},
   "source": [
    "# Boxing Information"
   ]
  },
  {
   "cell_type": "code",
   "execution_count": 3,
   "metadata": {},
   "outputs": [],
   "source": [
    "import matplotlib.pyplot as plt\n",
    "import numpy as np\n",
    "import pandas as pd\n",
    "%matplotlib inline"
   ]
  },
  {
   "cell_type": "code",
   "execution_count": 4,
   "metadata": {},
   "outputs": [
    {
     "name": "stdout",
     "output_type": "stream",
     "text": [
      "        age_A  age_B  height_A  height_B  reach_A  reach_B  stance_A  \\\n",
      "0        35.0   27.0     179.0     175.0    178.0    179.0  orthodox   \n",
      "1        26.0   31.0     175.0     185.0    179.0    185.0  orthodox   \n",
      "2        28.0   26.0     176.0     175.0      NaN    179.0  orthodox   \n",
      "3        25.0   29.0     175.0     174.0    179.0    180.0  orthodox   \n",
      "4        25.0   35.0     175.0     170.0    179.0    170.0  orthodox   \n",
      "5        24.0   31.0     175.0     175.0    179.0    178.0  orthodox   \n",
      "6        23.0   31.0     175.0     175.0    179.0    188.0  orthodox   \n",
      "7        23.0   31.0     175.0     177.0    179.0    175.0  orthodox   \n",
      "8        36.0   23.0     173.0     175.0    183.0    179.0  orthodox   \n",
      "9        27.0   22.0     177.0     175.0    183.0    179.0  southpaw   \n",
      "10       22.0   28.0     175.0     177.0    179.0    175.0  orthodox   \n",
      "11       21.0   40.0     175.0     174.0    179.0    180.0  orthodox   \n",
      "12       21.0   32.0     175.0     180.0    179.0    188.0  orthodox   \n",
      "13       21.0   30.0     175.0     175.0    179.0    175.0  orthodox   \n",
      "14       20.0   34.0     175.0     174.0    179.0      NaN  orthodox   \n",
      "15       20.0   29.0     175.0     174.0    179.0      NaN  orthodox   \n",
      "16       20.0   39.0     175.0     173.0    179.0    173.0  orthodox   \n",
      "17       20.0   39.0     175.0     170.0    179.0    173.0  orthodox   \n",
      "18       19.0   26.0     175.0     178.0    179.0    178.0  orthodox   \n",
      "19       19.0   32.0     175.0     167.0    179.0    173.0  orthodox   \n",
      "20       19.0   31.0     175.0     173.0    179.0      NaN  orthodox   \n",
      "21       19.0   34.0     175.0     168.0    179.0    178.0  orthodox   \n",
      "22       19.0   28.0     175.0     172.0    179.0      NaN  orthodox   \n",
      "23       19.0   28.0     175.0     176.0    179.0      NaN  orthodox   \n",
      "24       18.0   38.0     175.0       NaN    179.0      NaN  orthodox   \n",
      "25       18.0   26.0     175.0     180.0    179.0    188.0  orthodox   \n",
      "26       18.0   30.0     175.0       NaN    179.0      NaN  orthodox   \n",
      "27       18.0   22.0     175.0       NaN    179.0      NaN  orthodox   \n",
      "28       18.0   28.0     175.0     173.0    179.0    183.0  orthodox   \n",
      "29       18.0   28.0     175.0     175.0    179.0      NaN  orthodox   \n",
      "...       ...    ...       ...       ...      ...      ...       ...   \n",
      "387397   20.0   22.0       NaN       NaN      NaN      NaN  orthodox   \n",
      "387398   22.0    NaN       NaN       NaN      NaN      NaN  orthodox   \n",
      "387399   22.0    NaN       NaN       NaN      NaN      NaN  orthodox   \n",
      "387400   22.0    NaN       NaN       NaN      NaN      NaN  orthodox   \n",
      "387401   23.0   22.0     157.0       NaN      NaN      NaN  orthodox   \n",
      "387402   22.0    NaN       NaN       NaN      NaN      NaN  orthodox   \n",
      "387403   22.0    NaN       NaN       NaN      NaN      NaN  orthodox   \n",
      "387404   22.0    NaN       NaN       NaN      NaN      NaN  orthodox   \n",
      "387405   22.0    NaN       NaN       NaN      NaN      NaN  orthodox   \n",
      "387406   22.0   22.0       NaN       NaN      NaN      NaN  orthodox   \n",
      "387407   21.0   19.0       NaN       NaN      NaN      NaN  orthodox   \n",
      "387408   21.0    NaN       NaN       NaN      NaN      NaN  orthodox   \n",
      "387409   21.0    NaN       NaN       NaN      NaN      NaN  orthodox   \n",
      "387410   21.0    NaN       NaN       NaN      NaN      NaN  orthodox   \n",
      "387411   21.0   19.0       NaN       NaN      NaN      NaN  orthodox   \n",
      "387412   21.0   27.0       NaN       NaN      NaN      NaN  orthodox   \n",
      "387413   21.0   20.0       NaN       NaN      NaN      NaN  orthodox   \n",
      "387414   21.0   27.0       NaN       NaN      NaN      NaN  orthodox   \n",
      "387415   21.0   27.0       NaN       NaN      NaN      NaN  orthodox   \n",
      "387416   21.0    NaN       NaN       NaN      NaN      NaN  orthodox   \n",
      "387417   21.0   27.0       NaN       NaN      NaN      NaN  orthodox   \n",
      "387418   21.0    NaN       NaN       NaN      NaN      NaN  orthodox   \n",
      "387419   21.0    NaN       NaN       NaN      NaN      NaN  orthodox   \n",
      "387420   21.0   26.0       NaN       NaN      NaN      NaN  orthodox   \n",
      "387421   21.0    NaN       NaN       NaN      NaN      NaN  orthodox   \n",
      "387422   20.0    NaN       NaN       NaN      NaN      NaN  orthodox   \n",
      "387423   20.0    NaN       NaN       NaN      NaN      NaN  orthodox   \n",
      "387424   20.0   26.0       NaN       NaN      NaN      NaN  orthodox   \n",
      "387425   20.0    NaN       NaN       NaN      NaN      NaN  orthodox   \n",
      "387426   20.0    NaN       NaN       NaN      NaN      NaN  orthodox   \n",
      "\n",
      "        stance_B  weight_A  weight_B   ...     kos_A  kos_B  result  decision  \\\n",
      "0       orthodox     160.0     160.0   ...        33   34.0    draw        SD   \n",
      "1       orthodox     164.0     164.0   ...        34   32.0   win_A        UD   \n",
      "2       orthodox     154.0     154.0   ...        13   33.0   win_B        KO   \n",
      "3       orthodox     155.0     155.0   ...        32   19.0   win_A        KO   \n",
      "4       orthodox     155.0       NaN   ...        32   33.0   win_A        UD   \n",
      "5       orthodox       NaN       NaN   ...        31   28.0   win_A        KO   \n",
      "6       orthodox     155.0     155.0   ...        31   12.0   win_A        SD   \n",
      "7       orthodox     155.0       NaN   ...        30   18.0   win_A       TKO   \n",
      "8       orthodox     152.0       NaN   ...        26   30.0   win_A        MD   \n",
      "9       southpaw       NaN       NaN   ...        14   30.0   win_B        UD   \n",
      "10      orthodox     154.0     153.0   ...        29   18.0   win_A       TKO   \n",
      "11      orthodox     154.0     154.0   ...        29   39.0   win_A        UD   \n",
      "12      orthodox     154.0     154.0   ...        28   28.0   win_A       TKO   \n",
      "13      orthodox       NaN       NaN   ...        27   12.0   win_A       TKO   \n",
      "14      orthodox       NaN       NaN   ...        26   31.0   win_A       TKO   \n",
      "15      orthodox       NaN       NaN   ...        26   16.0   win_A        UD   \n",
      "16      orthodox       NaN     149.0   ...        26   31.0   win_A        UD   \n",
      "17      orthodox       NaN       NaN   ...        25   14.0   win_A        KO   \n",
      "18      orthodox       NaN       NaN   ...        24   12.0   win_A       TKO   \n",
      "19      orthodox     150.0     149.0   ...        23   23.0   win_A       TKO   \n",
      "20      orthodox     147.0       NaN   ...        22    8.0   win_A        KO   \n",
      "21      orthodox       NaN       NaN   ...        22   13.0   win_A        UD   \n",
      "22      orthodox       NaN     145.0   ...        21    8.0   win_A       TKO   \n",
      "23      orthodox     147.0     147.0   ...        20    7.0   win_A        KO   \n",
      "24      orthodox     147.0       NaN   ...        19   10.0   win_A        KO   \n",
      "25      orthodox     147.0     147.0   ...        18   21.0   win_A       TKO   \n",
      "26      orthodox     147.0       NaN   ...        17   12.0   win_A       TKO   \n",
      "27      orthodox     147.0     147.0   ...        16   10.0   win_A       TKO   \n",
      "28      orthodox     147.0     147.0   ...        15   15.0   win_A       TKO   \n",
      "29      orthodox       NaN       NaN   ...        15    6.0   win_A        UD   \n",
      "...          ...       ...       ...   ...       ...    ...     ...       ...   \n",
      "387397  orthodox       NaN       NaN   ...         2   36.0   win_B       PTS   \n",
      "387398  orthodox       NaN       NaN   ...        35    0.0   win_A        KO   \n",
      "387399  orthodox       NaN       NaN   ...        35    4.0   win_A       PTS   \n",
      "387400  orthodox       NaN       NaN   ...        35    4.0   win_B       PTS   \n",
      "387401  orthodox       NaN       NaN   ...        12   34.0   win_B       TKO   \n",
      "387402  orthodox       NaN       NaN   ...        33    0.0   win_A       TKO   \n",
      "387403  orthodox       NaN       NaN   ...        32    5.0   win_A        KO   \n",
      "387404  orthodox       NaN       NaN   ...        31    5.0   win_A        KO   \n",
      "387405  orthodox       NaN       NaN   ...        30    0.0   win_A        KO   \n",
      "387406  orthodox       NaN       NaN   ...        30    0.0   win_A       PTS   \n",
      "387407  orthodox       NaN       NaN   ...        29    1.0   win_A       TKO   \n",
      "387408  orthodox       NaN       NaN   ...        28    0.0   win_A        KO   \n",
      "387409  orthodox       NaN       NaN   ...        27    0.0   win_A        KO   \n",
      "387410  orthodox       NaN       NaN   ...        26    0.0   win_A        KO   \n",
      "387411  orthodox       NaN       NaN   ...        25    1.0   win_A       TKO   \n",
      "387412  orthodox       NaN       NaN   ...        24    6.0   win_A       TKO   \n",
      "387413  orthodox       NaN     125.0   ...        24    1.0   win_A        MD   \n",
      "387414  orthodox       NaN       NaN   ...        24    9.0    draw       PTS   \n",
      "387415  orthodox       NaN       NaN   ...        24    9.0    draw       PTS   \n",
      "387416  orthodox       NaN       NaN   ...        23    0.0   win_A        KO   \n",
      "387417  orthodox       NaN       NaN   ...        23    9.0    draw       PTS   \n",
      "387418  orthodox       NaN       NaN   ...        22    0.0   win_A        KO   \n",
      "387419  orthodox       NaN       NaN   ...        21    0.0   win_A        KO   \n",
      "387420  orthodox       NaN       NaN   ...        21    6.0    draw       PTS   \n",
      "387421  orthodox       NaN       NaN   ...        20    0.0   win_A       TKO   \n",
      "387422  orthodox       NaN       NaN   ...        19    0.0   win_A        KO   \n",
      "387423  orthodox       NaN       NaN   ...        19    2.0   win_A       PTS   \n",
      "387424  orthodox       NaN       NaN   ...        18    3.0   win_A       TKO   \n",
      "387425  orthodox       NaN       NaN   ...        17    0.0   win_A       TKO   \n",
      "387426  orthodox       NaN       NaN   ...        16    0.0   win_A        KO   \n",
      "\n",
      "        judge1_A  judge1_B  judge2_A  judge2_B judge3_A judge3_B  \n",
      "0          110.0     118.0     115.0     113.0    114.0    114.0  \n",
      "1          120.0     108.0     120.0     108.0    120.0    108.0  \n",
      "2            NaN       NaN       NaN       NaN      NaN      NaN  \n",
      "3           47.0      48.0      49.0      46.0     48.0     47.0  \n",
      "4          118.0     110.0     119.0     109.0    117.0    111.0  \n",
      "5            NaN       NaN       NaN       NaN      NaN      NaN  \n",
      "6          115.0     113.0     117.0     111.0    113.0    115.0  \n",
      "7           89.0      82.0      88.0      83.0     89.0     82.0  \n",
      "8          116.0     112.0     114.0     114.0    117.0    111.0  \n",
      "9          112.0     115.0     109.0     118.0    111.0    116.0  \n",
      "10           NaN       NaN       NaN       NaN      NaN      NaN  \n",
      "11         119.0     109.0     119.0     109.0    118.0    110.0  \n",
      "12          40.0      35.0      40.0      35.0     40.0     35.0  \n",
      "13          50.0      44.0      49.0      45.0     49.0     45.0  \n",
      "14           NaN       NaN       NaN       NaN      NaN      NaN  \n",
      "15         119.0     108.0     119.0     108.0    119.0    108.0  \n",
      "16         120.0     108.0     120.0     108.0    119.0    109.0  \n",
      "17           NaN       NaN       NaN       NaN      NaN      NaN  \n",
      "18           NaN       NaN       NaN       NaN      NaN      NaN  \n",
      "19          78.0      73.0      78.0      73.0     78.0     73.0  \n",
      "20           NaN       NaN       NaN       NaN      NaN      NaN  \n",
      "21           NaN       NaN       NaN       NaN      NaN      NaN  \n",
      "22           NaN       NaN       NaN       NaN      NaN      NaN  \n",
      "23           NaN       NaN       NaN       NaN      NaN      NaN  \n",
      "24          80.0      72.0      80.0      72.0     80.0     72.0  \n",
      "25           NaN       NaN       NaN       NaN      NaN      NaN  \n",
      "26           NaN       NaN       NaN       NaN      NaN      NaN  \n",
      "27           NaN       NaN       NaN       NaN      NaN      NaN  \n",
      "28           NaN       NaN       NaN       NaN      NaN      NaN  \n",
      "29          99.0      91.0      97.0      93.0     96.0     94.0  \n",
      "...          ...       ...       ...       ...      ...      ...  \n",
      "387397       NaN       NaN       NaN       NaN      NaN      NaN  \n",
      "387398       NaN       NaN       NaN       NaN      NaN      NaN  \n",
      "387399       NaN       NaN       NaN       NaN      NaN      NaN  \n",
      "387400       NaN       NaN       NaN       NaN      NaN      NaN  \n",
      "387401       NaN       NaN       NaN       NaN      NaN      NaN  \n",
      "387402       NaN       NaN       NaN       NaN      NaN      NaN  \n",
      "387403       NaN       NaN       NaN       NaN      NaN      NaN  \n",
      "387404       NaN       NaN       NaN       NaN      NaN      NaN  \n",
      "387405       NaN       NaN       NaN       NaN      NaN      NaN  \n",
      "387406       NaN       NaN       NaN       NaN      NaN      NaN  \n",
      "387407       NaN       NaN       NaN       NaN      NaN      NaN  \n",
      "387408       NaN       NaN       NaN       NaN      NaN      NaN  \n",
      "387409       NaN       NaN       NaN       NaN      NaN      NaN  \n",
      "387410       NaN       NaN       NaN       NaN      NaN      NaN  \n",
      "387411       NaN       NaN       NaN       NaN      NaN      NaN  \n",
      "387412       NaN       NaN       NaN       NaN      NaN      NaN  \n",
      "387413       NaN       NaN       NaN       NaN      NaN      NaN  \n",
      "387414       NaN       NaN       NaN       NaN      NaN      NaN  \n",
      "387415       NaN       NaN       NaN       NaN      NaN      NaN  \n",
      "387416       NaN       NaN       NaN       NaN      NaN      NaN  \n",
      "387417       NaN       NaN       NaN       NaN      NaN      NaN  \n",
      "387418       NaN       NaN       NaN       NaN      NaN      NaN  \n",
      "387419       NaN       NaN       NaN       NaN      NaN      NaN  \n",
      "387420       NaN       NaN       NaN       NaN      NaN      NaN  \n",
      "387421       NaN       NaN       NaN       NaN      NaN      NaN  \n",
      "387422       NaN       NaN       NaN       NaN      NaN      NaN  \n",
      "387423       NaN       NaN       NaN       NaN      NaN      NaN  \n",
      "387424       NaN       NaN       NaN       NaN      NaN      NaN  \n",
      "387425       NaN       NaN       NaN       NaN      NaN      NaN  \n",
      "387426       NaN       NaN       NaN       NaN      NaN      NaN  \n",
      "\n",
      "[387427 rows x 26 columns]\n"
     ]
    }
   ],
   "source": [
    "df = pd.read_csv('bouts_out_new.csv')\n",
    "print (df)"
   ]
  },
  {
   "cell_type": "code",
   "execution_count": 11,
   "metadata": {},
   "outputs": [
    {
     "data": {
      "image/png": "[encoded data removed]",
      "text/plain": [
       "<Figure size 432x288 with 1 Axes>"
      ]
     },
     "metadata": {},
     "output_type": "display_data"
    }
   ],
   "source": [
    "plt.scatter(x=df['reach_A'], y=df['kos_A'])\n",
    "plt.show()"
   ]
  },
  {
   "cell_type": "markdown",
   "metadata": {},
   "source": [
    "I was trying to determine here if boxers with longer reach typically get more knockouts. This is a wierd graph, but it looks like there is a correlation, the longer the reach the higer the chance of getting a knockout."
   ]
  },
  {
   "cell_type": "code",
   "execution_count": 24,
   "metadata": {
    "scrolled": true
   },
   "outputs": [
    {
     "data": {
      "image/png": "[encoded data removed]",
      "text/plain": [
       "<Figure size 432x288 with 1 Axes>"
      ]
     },
     "metadata": {},
     "output_type": "display_data"
    }
   ],
   "source": [
    "plt.plot(df['height_A'])\n",
    "plt.show() "
   ]
  },
  {
   "cell_type": "markdown",
   "metadata": {},
   "source": [
    "Here I was trying to determine the typical height of the boxers and this is helpful for determning there range being within the 150-200 range, but I have no idea was is going on in the Y axis and those few outliers seem to have no height at all, I have no idea what is going on here. I'm going to try height in histogram."
   ]
  },
  {
   "cell_type": "code",
   "execution_count": 27,
   "metadata": {},
   "outputs": [
    {
     "data": {
      "image/png": "[encoded data removed]",
      "text/plain": [
       "<Figure size 432x288 with 1 Axes>"
      ]
     },
     "metadata": {},
     "output_type": "display_data"
    }
   ],
   "source": [
    "plt.hist('height_A')\n",
    "plt.show()"
   ]
  },
  {
   "cell_type": "markdown",
   "metadata": {},
   "source": [
    "This did not work, I wanted a histogram of height_A and this is not what I was looking for at all."
   ]
  },
  {
   "cell_type": "code",
   "execution_count": 28,
   "metadata": {},
   "outputs": [
    {
     "data": {
      "image/png": "[encoded data removed]",
      "text/plain": [
       "<Figure size 432x288 with 1 Axes>"
      ]
     },
     "metadata": {},
     "output_type": "display_data"
    }
   ],
   "source": [
    "plt.scatter(x=df['reach_A'], y=df['height_A'])\n",
    "plt.show()"
   ]
  },
  {
   "cell_type": "markdown",
   "metadata": {},
   "source": [
    "I wanted to see here if height and reach are correlated in boxers. It looks pretty steady. Typically the shorter your height the shorter your reach and vice versa, it is not perfect, there are people who are normal with a crazy long reach (check the right) and oppsite (check the left). But it does look pretty steady in the middle."
   ]
  }
 ],
 "metadata": {
  "kernelspec": {
   "display_name": "Python 3",
   "language": "python",
   "name": "python3"
  },
  "language_info": {
   "codemirror_mode": {
    "name": "ipython",
    "version": 3
   },
   "file_extension": ".py",
   "mimetype": "text/x-python",
   "name": "python",
   "nbconvert_exporter": "python",
   "pygments_lexer": "ipython3",
   "version": "3.6.5"
  }
 },
 "nbformat": 4,
 "nbformat_minor": 2
}
