{
 "cells": [
  {
   "cell_type": "markdown",
   "metadata": {},
   "source": [
    "What does your data contain and what is its background? Where does it come from? Why is it interesting or significant? Conduct summary statistics and produce visualizations for the particular variables from the dataset that you will use.\n",
    "\n",
    "My data set looks at all of the people who have been accepted to the Data Science program since the creation of Hen at Thinkful. It is valuable Data from which we can pull our Average close rate, how long on average it takes people to enorll and how many admissions counselors people interacted with before signing up. Because this is the last stop in the Admissions process we are given the chance to see what is working and what is not. This also, allows us to reverse engineer how many people we need at the top of the funnel to move down to the bottom of the funnel, since we will have a good estimate of how many people we close and generally how long it takes to close them.\n"
   ]
  },
  {
   "cell_type": "code",
   "execution_count": 4,
   "metadata": {},
   "outputs": [
    {
     "name": "stdout",
     "output_type": "stream",
     "text": [
      "                  Name                             Email  Signed up  \\\n",
      "0         Mark Goldfarb          markcgoldfarb@gmail.com          1   \n",
      "1           Farouk Rice               faroukjr@gmail.com          1   \n",
      "2    Francisco Silverio           silveriofr@hotmail.com          0   \n",
      "3    David Antzelevitch     david.antzelevitch@gmail.com          1   \n",
      "4          Nadia Morgen            usability42@gmail.com          1   \n",
      "5       Omid Naghshineh           mrnaghshineh@gmail.com          1   \n",
      "6               Shu Cui              shu.cui17@gmail.com          0   \n",
      "7     Branden Shimamoto       brandenshimamoto@gmail.com          0   \n",
      "8        Aakrati Mathur          mathuraakrati@gmail.com          0   \n",
      "9       Hellen Wainaina          hellenwambui7@gmail.com          0   \n",
      "10    Bernard Tumanjong            tumanjongbt@gmail.com          1   \n",
      "11           David Kang          david.kang714@gmail.com          0   \n",
      "12     Jennifer Killian     ms.jenniferkillian@gmail.com          0   \n",
      "13        Melissa Smith           m.bess.smith@gmail.com          0   \n",
      "14           Philip Sun                philsun@gmail.com          1   \n",
      "15        Olajuwon Faye             broadjuwon@gmail.com          0   \n",
      "16         Irina Varela         Irina.varela01@gmail.com          0   \n",
      "17         Jinyan Jiang                3xjiang@gmail.com          0   \n",
      "18         Betsy Morris                   eliza74@vt.edu          0   \n",
      "19      Michael Wickert        wickert.michael@gmail.com          1   \n",
      "20         Ali Nikooyan             aanikooyan@gmail.com          0   \n",
      "21         Cameron Ross          emailme@cameronross.com          0   \n",
      "22       Thomas Ernstee               tjernste@gmail.com          0   \n",
      "23         Moussa Aquil           moussa.aquil@gmail.com          0   \n",
      "24      Rosana Alcantar        rosana.alcantar@gmail.com          1   \n",
      "25       Colin Sinclair             csinclair0@gmail.com          0   \n",
      "26       Yusuf Cattaneo            ycattaneo33@gmail.com          0   \n",
      "27        Reid McCorkle           reidmccorkle@gmail.com          1   \n",
      "28  Kendall Barber-mayo              ke.bmayo@icloud.com          1   \n",
      "29       Clayton Murray         claypaulmurray@gmail.com          1   \n",
      "..                  ...                              ...        ...   \n",
      "32  Gabriel Lobo-Blanco          globoblanco@hotmail.com          0   \n",
      "33          Siu Nam Kam             s-005035@hotmail.com          1   \n",
      "34          Jess Tillis             jesstillis@gmail.com          1   \n",
      "35      Katrina Johnson      katrina.johnson09@gmail.com          0   \n",
      "36            Jenny Liu               jpl12134@gmail.com         27   \n",
      "37          Eileen Dise              eileen.dise@hbo.com          1   \n",
      "38          Greg Condit                conditg@gmail.com          1   \n",
      "39        Andrew Bryant          drewmaxbryant@gmail.com          1   \n",
      "40            Jason Yoo              pobox7075@gmail.com          0   \n",
      "41       Isaac Stonberg          isaacstonberg@gmail.com          1   \n",
      "42         Aaron Bauman              bauman.mr@gmail.com          1   \n",
      "43               Beth B              sjwimprov@gmail.com          0   \n",
      "44       Khari Riviears              kriviears@gmail.com          0   \n",
      "45        Victor McGhee                   mcheev@nku.edu          0   \n",
      "46   Lauren Gripenstraw      laurengripenstraw@gmail.com          0   \n",
      "47        Alice Gifford                 703amg@gmail.com          1   \n",
      "48             Olivia Z           fangyucatdog@gmail.com          1   \n",
      "49   Swathi Vijayakumar     swathi.vijayakumar@gmail.com          0   \n",
      "50          Dan McHenry            danmchenry5@gmail.com          1   \n",
      "51        Jim Matsunaga             jnighthawk@yahoo.com          1   \n",
      "52          Jeremy Chen                jcdepth@gmail.com          1   \n",
      "53           Adam Simon            adamjsimon1@yahoo.com          0   \n",
      "54         Raaj Bhavsar            raajbhavsar@gmail.com          1   \n",
      "55          Sam Fradkin          samuelfradkin@gmail.com          1   \n",
      "56         Kendall Cook      kendall.cook.8913@gmail.com          1   \n",
      "57       Juvenal Arango               juve2527@gmail.com          1   \n",
      "58       Chris Trammell  christopher.trammell@icloud.com          0   \n",
      "59      Ryan Smithright              ryan@smithright.com          0   \n",
      "60             Xian Cai           shawnxcai126@gmail.com          0   \n",
      "61          Uri Eckmann              uneckmann@gmail.com          1   \n",
      "\n",
      "                 Status  Days to Close           Who Helped  How much help  \n",
      "0              Enrolled            1.0           Admissions              2  \n",
      "1   Same Day Enrollment            0.0           Admissions              1  \n",
      "2           Competition            NaN           Admissions              1  \n",
      "3              Enrolled            1.0                Local              3  \n",
      "4              Enrolled            2.0            Admissons              1  \n",
      "5   Same Day Enrollment            0.0                 None              0  \n",
      "6               Pending            NaN           Admissions              1  \n",
      "7               Pending            NaN                 None              0  \n",
      "8               Pending            NaN                 None              0  \n",
      "9               Pending            NaN           Admissions              2  \n",
      "10             Enrolled            1.0           Admissions              1  \n",
      "11              Pending            NaN           Admissions              1  \n",
      "12              Pending            NaN           Admissions              0  \n",
      "13              Pending            NaN            Admissons              1  \n",
      "14  Same Day Enrollment            0.0                 None              0  \n",
      "15              Pending            NaN                 None              0  \n",
      "16              Pending            NaN                 None              0  \n",
      "17              Pending            NaN                 None              0  \n",
      "18   Currently Enganged            NaN                 None              0  \n",
      "19             Enrolled            4.0           Admissions              2  \n",
      "20              Pending            NaN           Admissions              1  \n",
      "21              Pending            NaN                 None              0  \n",
      "22              Pending            NaN           Admissions              3  \n",
      "23   Currently Enganged            NaN                 None              0  \n",
      "24             Enrolled            4.0                 None              0  \n",
      "25              Pending            NaN                 None              0  \n",
      "26              Pending            NaN                Trial              0  \n",
      "27             Enrolled            5.0           Admissions              1  \n",
      "28             Enrolled            3.0           Admissions              1  \n",
      "29             Enrolled           10.0  Trial/ 2 Admissions              3  \n",
      "..                  ...            ...                  ...            ...  \n",
      "32   Currently Enganged            NaN           Admissions              2  \n",
      "33             Enrolled            2.0           Admissions              1  \n",
      "34             Enrolled            1.0                 None              0  \n",
      "35   Currently Enganged            NaN                 None              0  \n",
      "36             Enrolled            NaN    Admissions/ Trial              2  \n",
      "37             Enrolled            8.0             Referral              1  \n",
      "38             Enrolled           14.0           Admissions              1  \n",
      "39             Enrolled            0.0           Admissions              1  \n",
      "40              Pending            NaN                 None              0  \n",
      "41             Enrolled           12.0                 None              0  \n",
      "42             Enrolled            0.0                 None              0  \n",
      "43              Pending            NaN                 None              0  \n",
      "44              Pending            NaN           Admissions              2  \n",
      "45   Currently Enganged            NaN                 None              0  \n",
      "46              Pending            NaN                 None              0  \n",
      "47             Enrolled           24.0                Trial              1  \n",
      "48             Enrolled            0.0                 None              0  \n",
      "49              Pending            NaN                 None              0  \n",
      "50             Enrolled           12.0                 None              0  \n",
      "51             Enrolled           22.0                 None              0  \n",
      "52             Enrolled            8.0           Admissions              1  \n",
      "53              Pending            NaN                 None              0  \n",
      "54             Enrolled            0.0           Admissions              1  \n",
      "55             Enrolled           18.0           Admissions              1  \n",
      "56             Enrolled            0.0           Admissions              1  \n",
      "57             Enrolled            2.0           Admissions              1  \n",
      "58              Pending            NaN           Admissions              1  \n",
      "59              Pending            NaN                 None              0  \n",
      "60              Pending            NaN           Admissions              1  \n",
      "61             Enrolled            0.0           Admissions              3  \n",
      "\n",
      "[62 rows x 7 columns]\n"
     ]
    },
    {
     "data": {
      "text/plain": [
       "array([2, 1, 1, 3, 1, 0, 1, 0, 0, 2, 1, 1, 0, 1, 0, 0, 0, 0, 0, 2, 1, 0,\n",
       "       3, 0, 0, 0, 0, 1, 1, 3, 0, 0, 2, 1, 0, 0, 2, 1, 1, 1, 0, 0, 0, 0,\n",
       "       2, 0, 0, 1, 0, 0, 0, 0, 1, 0, 1, 1, 1, 1, 1, 0, 1, 3])"
      ]
     },
     "execution_count": 4,
     "metadata": {},
     "output_type": "execute_result"
    }
   ],
   "source": [
    "import matplotlib.pyplot as plt\n",
    "import numpy as np\n",
    "import pandas as pd\n",
    "import statistics\n",
    "%matplotlib inline\n",
    "\n",
    "df = pd.read_csv('sales_data.csv')\n",
    "print (df)\n",
    "\n",
    "df['How much help'].values"
   ]
  },
  {
   "cell_type": "markdown",
   "metadata": {},
   "source": [
    "Ask three analytic questions and answer each one with a combination of statistics and visualizations. These analytic questions can focus on individuals behaviors or comparisons of the population.\n",
    "\n",
    "1) What is average close rate of students who are accepted in the program?\n",
    "2) How long does it typically take for students to sign up?\n",
    "3) What is the distribution of how many different employees from Thinkful that students interact with?"
   ]
  },
  {
   "cell_type": "code",
   "execution_count": 7,
   "metadata": {},
   "outputs": [
    {
     "data": {
      "image/png": "[encoded data removed]",
      "text/plain": [
       "<Figure size 432x288 with 1 Axes>"
      ]
     },
     "metadata": {},
     "output_type": "display_data"
    }
   ],
   "source": [
    "plt.hist(df['How much help'].values, color='blue')\n",
    "plt.show()"
   ]
  },
  {
   "cell_type": "markdown",
   "metadata": {},
   "source": [
    "This graph shows us the grouping of how many students have talked with different Admissions Counselor. Zero, tells us that the student only talked one Admissions Counselor, 1 means that that they talked to two Counselors and so on and so forth.\n",
    "\n",
    "This tells us that the majority of students have only talked to one or two admissions couselor. This makes sense, given our new strucutre and specialization. What would be interesting to explore here would be the close rates of grouping. In other words we could use probability to determine if it increases or decreases the chances of a student enrolling when they have more interaction with Admissions counselor."
   ]
  },
  {
   "cell_type": "code",
   "execution_count": 16,
   "metadata": {},
   "outputs": [
    {
     "data": {
      "image/png": "[encoded data removed]",
      "text/plain": [
       "<Figure size 432x288 with 1 Axes>"
      ]
     },
     "metadata": {},
     "output_type": "display_data"
    },
    {
     "data": {
      "text/plain": [
       "5.310344827586207"
      ]
     },
     "execution_count": 16,
     "metadata": {},
     "output_type": "execute_result"
    }
   ],
   "source": [
    "close_date = df['Days to Close'].dropna()\n",
    "plt.boxplot(close_date, showmeans=True)\n",
    "plt.show()\n",
    "np.mean(close_date)"
   ]
  },
  {
   "cell_type": "markdown",
   "metadata": {},
   "source": [
    "The graph tells quite an interesting story, while the mean closing date (meaning how long it takes someone to enroll from when they get the email that allows them to) is around 5 days, most people enroll about 9-10 days. The outliers definitely throw things off and higher our average close date. \n",
    "\n",
    "The Conclusion I think that we can pull from this graph is that we should expect people to enroll in the course about 10 days after they are given the link."
   ]
  },
  {
   "cell_type": "code",
   "execution_count": 17,
   "metadata": {},
   "outputs": [
    {
     "data": {
      "text/plain": [
       "6.848626584067092"
      ]
     },
     "execution_count": 17,
     "metadata": {},
     "output_type": "execute_result"
    }
   ],
   "source": [
    "np.std(close_date)"
   ]
  },
  {
   "cell_type": "markdown",
   "metadata": {},
   "source": [
    "The standard deviation with the close date tells a pretty deceptive story. Looking at the number one might assume that there is no real realiable way to determine when one might close. If the numbers for close date happen to be about 7 days apart, how can we really determine when someone will close or not, 7 days is a week apart? The answer is the extrmely high outliers of about 27, 25 days. That really throws off the standard deviation. I believe the graph above is a better story of how long it might take someone to close."
   ]
  },
  {
   "cell_type": "markdown",
   "metadata": {},
   "source": [
    "3.Lastly, make a proposal for a realistic future research project on this dataset that would use some data science techniques you'd like to learn in the bootcamp. Just like your earlier questions, your research proposal should present one or more clear questions. Then you should describe the techniques you would apply in order to arrive at an answer.\n",
    "\n",
    "I really want to explore if talking to more Thinful employees increases the win-probability for students. This would be a valuable insight that could inform our team structure. If it does increase win probability we should structure the team in such a way as to make sure that students talk to as many employees as possible. If it does not, we can either keep the team the same or make sure that students only talk with one person. \n",
    "\n",
    "I could almost calculate this now. First, I would calculate the win probaility of students who either talked with one person, two people and three plus people. I could then compare those win proabilities against one another. However, I am sure that I could write and algorithm that would calculate this a lot easier. As I progress through the course, I hope to be able to do that."
   ]
  }
 ],
 "metadata": {
  "kernelspec": {
   "display_name": "Python 3",
   "language": "python",
   "name": "python3"
  },
  "language_info": {
   "codemirror_mode": {
    "name": "ipython",
    "version": 3
   },
   "file_extension": ".py",
   "mimetype": "text/x-python",
   "name": "python",
   "nbconvert_exporter": "python",
   "pygments_lexer": "ipython3",
   "version": "3.6.5"
  }
 },
 "nbformat": 4,
 "nbformat_minor": 2
}
